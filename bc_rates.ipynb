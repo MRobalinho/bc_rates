{
 "cells": [
  {
   "cell_type": "markdown",
   "metadata": {},
   "source": [
    "# Cambios"
   ]
  },
  {
   "cell_type": "code",
   "execution_count": 1,
   "metadata": {},
   "outputs": [],
   "source": [
    "# https://medium.com/@leogregianin/buscando-taxas-oficiais-do-banco-central-do-brasil-com-python-1c76f031f8e8\n",
    "# pip install bancocentralbrasil\n",
    "# http://tutorial.com.br/buscando-taxas-oficiais-do-banco-central-do-brasil-com-python/\n",
    "# https://github.com/leogregianin/bancocentralbrasil"
   ]
  },
  {
   "cell_type": "code",
   "execution_count": 2,
   "metadata": {},
   "outputs": [
    {
     "name": "stdout",
     "output_type": "stream",
     "text": [
      "zipp\n",
      "zc.lockfile\n",
      "yagmail\n",
      "xlrd\n",
      "xarray\n",
      "WTForms\n",
      "wsproto\n",
      "widgetsnbextension\n",
      "wheel\n",
      "Werkzeug\n",
      "webencodings\n",
      "wcwidth\n",
      "visitor\n",
      "urllib3\n",
      "typing-extensions\n",
      "traitlets\n",
      "tornado\n",
      "toolz\n",
      "toml\n",
      "tifffile\n",
      "threadpoolctl\n",
      "testpath\n",
      "terminado\n",
      "tempora\n",
      "tabula-py\n",
      "starlette\n",
      "SQLAlchemy\n",
      "six\n",
      "simplejson\n",
      "sewar\n",
      "setuptools\n",
      "Send2Trash\n",
      "scipy\n",
      "scikit-learn\n",
      "scikit-image\n",
      "rsa\n",
      "retrying\n",
      "requests\n",
      "requests-oauthlib\n",
      "QtPy\n",
      "qtconsole\n",
      "pyzmq\n",
      "pywinpty\n",
      "pywin32\n",
      "pywin32-ctypes\n",
      "PyWavelets\n",
      "pytz\n",
      "python-editor\n",
      "python-dotenv\n",
      "python-dateutil\n",
      "pyrsistent\n",
      "pyparsing\n",
      "PyJWT\n",
      "Pygments\n",
      "pydantic\n",
      "pycnic\n",
      "pyasn1\n",
      "pyasn1-modules\n",
      "psycopg2\n",
      "prompt-toolkit\n",
      "prometheus-client\n",
      "priority\n",
      "portend\n",
      "plotly\n",
      "pip\n",
      "Pillow\n",
      "pickleshare\n",
      "parso\n",
      "pandocfilters\n",
      "pandas\n",
      "packaging\n",
      "opencv-python\n",
      "oauthlib\n",
      "oauth2client\n",
      "numpy\n",
      "notebook\n",
      "networkx\n",
      "nbformat\n",
      "nbconvert\n",
      "more-itertools\n",
      "mistune\n",
      "MarkupSafe\n",
      "Mako\n",
      "lz4\n",
      "keyring\n",
      "jupyterlab\n",
      "jupyterlab-server\n",
      "jupyter\n",
      "jupyter-core\n",
      "jupyter-console\n",
      "jupyter-client\n",
      "jsonschema\n",
      "json5\n",
      "joblib\n",
      "Jinja2\n",
      "jedi\n",
      "jaraco.text\n",
      "jaraco.functools\n",
      "jaraco.collections\n",
      "jaraco.classes\n",
      "itsdangerous\n",
      "ipywidgets\n",
      "ipython\n",
      "ipython-genutils\n",
      "ipykernel\n",
      "importlib-metadata\n",
      "imagecodecs\n",
      "idna\n",
      "hyperframe\n",
      "Hypercorn\n",
      "httplib2\n",
      "hpack\n",
      "h11\n",
      "h2\n",
      "gunicorn\n",
      "guizero\n",
      "guess-language-spirit\n",
      "gspread\n",
      "google-auth\n",
      "google-auth-oauthlib\n",
      "future\n",
      "forex-python\n",
      "Flask\n",
      "Flask-WTF\n",
      "Flask-SQLAlchemy\n",
      "flask-ngrok\n",
      "Flask-Moment\n",
      "Flask-Migrate\n",
      "Flask-Mail\n",
      "Flask-Login\n",
      "Flask-Compress\n",
      "Flask-Bootstrap\n",
      "Flask-Babel\n",
      "fastapi\n",
      "ExifRead\n",
      "entrypoints\n",
      "elasticsearch\n",
      "dtale\n",
      "dominate\n",
      "distro\n",
      "defusedxml\n",
      "decorator\n",
      "dask\n",
      "dash\n",
      "dash-table\n",
      "dash-renderer\n",
      "dash-html-components\n",
      "dash-daq\n",
      "dash-core-components\n",
      "dash-bootstrap-components\n",
      "config\n",
      "colorutils\n",
      "colorthief\n",
      "colormap\n",
      "colored\n",
      "colorama\n",
      "cloudpickle\n",
      "click\n",
      "CherryPy\n",
      "cheroot\n",
      "chardet\n",
      "certifi\n",
      "cachetools\n",
      "Brotli\n",
      "blinker\n",
      "bleach\n",
      "bancocentralbrasil\n",
      "backcall\n",
      "Babel\n",
      "attrs\n",
      "alembic\n"
     ]
    }
   ],
   "source": [
    "# To list all installed packages just execfile THIS file\n",
    "# execfile('list_all_pkgs.py')\n",
    "for dist in __import__('pkg_resources').working_set:\n",
    "   print(dist.project_name.replace('Python', ''))"
   ]
  },
  {
   "cell_type": "code",
   "execution_count": 3,
   "metadata": {},
   "outputs": [],
   "source": [
    "import bc.bancocentral\n",
    "\n",
    "from bc.bancocentral import AcessarBancoCentral\n",
    "from bc.bancocentral import Inflacao, Poupanca, Cambio, Selic, cleanContent"
   ]
  },
  {
   "cell_type": "code",
   "execution_count": 4,
   "metadata": {},
   "outputs": [
    {
     "data": {
      "text/plain": [
       "5.4629"
      ]
     },
     "execution_count": 4,
     "metadata": {},
     "output_type": "execute_result"
    }
   ],
   "source": [
    "#Para buscar os dados do câmbio como o valor do dólar para compra e para venda:\n",
    "cambio = Cambio()\n",
    "cambio.get_dolar_compra()\n",
    "cambio.get_dolar_venda()"
   ]
  },
  {
   "cell_type": "code",
   "execution_count": 5,
   "metadata": {},
   "outputs": [
    {
     "data": {
      "text/plain": [
       "2.15"
      ]
     },
     "execution_count": 5,
     "metadata": {},
     "output_type": "execute_result"
    }
   ],
   "source": [
    "# Para buscar os dados da taxa Selic atual:\n",
    "selic = Selic()\n",
    "selic.get_selic_real()"
   ]
  },
  {
   "cell_type": "code",
   "execution_count": 10,
   "metadata": {},
   "outputs": [],
   "source": [
    "import datetime\n",
    "now = datetime.datetime.now()\n",
    "#print (\"Current date and time : \", now.strftime(\"%Y-%m-%d %H:%M:%S\"))\n",
    "#print('------------------------------------------------')"
   ]
  },
  {
   "cell_type": "code",
   "execution_count": 11,
   "metadata": {},
   "outputs": [
    {
     "name": "stdout",
     "output_type": "stream",
     "text": [
      "Current date and time :  2020-06-28 12:04:13\n",
      "------------------------------------------------\n",
      "Inflação Meta: 4.0\n",
      "Inflação acumulada 12 últimos meses: 1.88\n",
      "Poupança: 0.1303\n",
      "Dólar compra PTAX: 5.4623\n",
      "Dólar venda PTAX: 5.4629\n",
      "Dólar compra: 5.4623\n",
      "Dólar venda: 5.4629\n",
      "Euro compra PTAX: 6.1249\n",
      "Euro venda PTAX: 6.1277\n",
      "Euro compra: 6.1249\n",
      "Euro venda: 6.1277\n",
      "Selic meta: 2.25\n",
      "Selic real: 2.15\n"
     ]
    }
   ],
   "source": [
    "# Exemplo\n",
    "print (\"Current date and time : \", now.strftime(\"%Y-%m-%d %H:%M:%S\"))\n",
    "print('------------------------------------------------')\n",
    "\n",
    "from bc.bancocentral import Inflacao, Poupanca, Cambio, Selic\n",
    "\n",
    "inflacao = Inflacao()\n",
    "print(u'Inflação Meta: %s' % inflacao.get_meta_tax())\n",
    "print(u'Inflação acumulada 12 últimos meses: %s' % inflacao.get_acumulada_tax())\n",
    "\n",
    "poupanca = Poupanca()\n",
    "print(u'Poupança: %s' % poupanca.get_poupanca_tax())\n",
    "\n",
    "cambio = Cambio()\n",
    "print(u'Dólar compra PTAX: %s' % cambio.get_dolar_compra_ptax())\n",
    "print(u'Dólar venda PTAX: %s' % cambio.get_dolar_venda_ptax())\n",
    "print(u'Dólar compra: %s' % cambio.get_dolar_compra())\n",
    "print(u'Dólar venda: %s' % cambio.get_dolar_venda())\n",
    "print(u'Euro compra PTAX: %s' % cambio.get_euro_compra_ptax())\n",
    "print(u'Euro venda PTAX: %s' % cambio.get_euro_venda_ptax())\n",
    "print(u'Euro compra: %s' % cambio.get_euro_compra())\n",
    "print(u'Euro venda: %s' % cambio.get_euro_venda())\n",
    "\n",
    "selic = Selic()\n",
    "print(u'Selic meta: %s' % selic.get_selic_meta())\n",
    "print(u'Selic real: %s' % selic.get_selic_real())"
   ]
  },
  {
   "cell_type": "code",
   "execution_count": null,
   "metadata": {},
   "outputs": [],
   "source": []
  },
  {
   "cell_type": "code",
   "execution_count": null,
   "metadata": {},
   "outputs": [],
   "source": []
  }
 ],
 "metadata": {
  "kernelspec": {
   "display_name": "Python 3",
   "language": "python",
   "name": "python3"
  },
  "language_info": {
   "codemirror_mode": {
    "name": "ipython",
    "version": 3
   },
   "file_extension": ".py",
   "mimetype": "text/x-python",
   "name": "python",
   "nbconvert_exporter": "python",
   "pygments_lexer": "ipython3",
   "version": "3.7.2"
  }
 },
 "nbformat": 4,
 "nbformat_minor": 4
}
